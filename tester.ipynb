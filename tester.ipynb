{
 "cells": [
  {
   "cell_type": "code",
   "execution_count": 1,
   "id": "35afe3ae",
   "metadata": {},
   "outputs": [],
   "source": [
    "from importlib import reload\n",
    "import git_functions\n",
    "git_functions = reload(git_functions)\n",
    "from git_functions import *"
   ]
  },
  {
   "cell_type": "code",
   "execution_count": 19,
   "id": "0b88f96f",
   "metadata": {},
   "outputs": [
    {
     "name": "stdout",
     "output_type": "stream",
     "text": [
      "helper_functions.py uploaded!\n",
      "uav_design_2.ipynb uploaded!\n"
     ]
    }
   ],
   "source": [
    "### upload files to git\n",
    "\n",
    "git_files = get_repo_contents()\n",
    "git_frame = None\n",
    "if len(git_files) != 0:\n",
    "    git_frame = pd.DataFrame(git_files)\n",
    "    git_frame = git_frame.set_index(\"name\").T.to_dict()\n",
    "upload_directory_content(Path(\"git\"), sub=None, git_frame=git_frame)"
   ]
  },
  {
   "cell_type": "code",
   "execution_count": null,
   "id": "2aa19e97",
   "metadata": {},
   "outputs": [],
   "source": [
    "### download files from git\n",
    "\n",
    "git_files = get_repo_contents()\n",
    "for git_item in git_files:\n",
    "    download_from_github(git_item)"
   ]
  },
  {
   "cell_type": "code",
   "execution_count": null,
   "id": "1ff1da87",
   "metadata": {},
   "outputs": [],
   "source": [
    "## empty git directory\n",
    "for git_item in git_files:\n",
    "    delete_file(git_item, commit_message=None)"
   ]
  },
  {
   "cell_type": "code",
   "execution_count": null,
   "id": "53e60162",
   "metadata": {},
   "outputs": [],
   "source": []
  }
 ],
 "metadata": {
  "kernelspec": {
   "display_name": "uav",
   "language": "python",
   "name": "python3"
  },
  "language_info": {
   "codemirror_mode": {
    "name": "ipython",
    "version": 3
   },
   "file_extension": ".py",
   "mimetype": "text/x-python",
   "name": "python",
   "nbconvert_exporter": "python",
   "pygments_lexer": "ipython3",
   "version": "3.10.11"
  }
 },
 "nbformat": 4,
 "nbformat_minor": 5
}
